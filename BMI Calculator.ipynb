{
 "cells": [
  {
   "cell_type": "code",
   "execution_count": null,
   "id": "18ad1fde-c2b1-4188-a933-01287fc5a9c2",
   "metadata": {},
   "outputs": [
    {
     "name": "stdout",
     "output_type": "stream",
     "text": [
      "\n",
      "\t\t\t\t ====== BMI Calculator ======\n"
     ]
    },
    {
     "name": "stdin",
     "output_type": "stream",
     "text": [
      "Enter your weight in kilograms (kg):  75\n"
     ]
    }
   ],
   "source": [
    "def calculate_bmi(weight, height):\n",
    "    # Calculate BMI given weight in kilograms and height in meters.\n",
    "    bmi = weight / (height ** 2)\n",
    "    return bmi\n",
    "\n",
    "\n",
    "def bmi_category(bmi):    \n",
    "    if bmi < 18.5:\n",
    "        return \"Underweight\"\n",
    "    elif bmi >= 18.5 and bmi <= 24.9:\n",
    "        return \"Normal weight\"\n",
    "    elif bmi >= 25 and bmi <= 29.9:\n",
    "        return \"Overweight\"\n",
    "    else:\n",
    "        return \"Obesity\"\n",
    "\n",
    "\n",
    "# Loop starts here\n",
    "while True:\n",
    "    print(\"\\n\\t\\t\\t\\t ====== BMI Calculator ======\")\n",
    "    weight = float(input(\"Enter your weight in kilograms (kg): \"))\n",
    "    height = float(input(\"Enter your height in meters (m): \"))\n",
    "\n",
    "    # Calculate BMI and category\n",
    "    bmi = calculate_bmi(weight, height)\n",
    "    category = bmi_category(bmi)\n",
    "\n",
    "    # Display results\n",
    "    print(f\"\\t\\t\\t\\t ====== Your BMI is: {bmi:.2f} ======\")\n",
    "    print(f\"\\t\\t\\t\\t ====== You are classified as: {category} ======\")\n",
    "\n",
    "    # Ask if user wants to calculate again\n",
    "    try_again = input(\"\\n\\t\\t\\t\\t ====== Do you want to calculate again? (Y/N): \").strip().lower()\n",
    "    if try_again != \"y\":\n",
    "        break\n",
    "\n",
    "# Final message\n",
    "print(\"\\n\\t\\t\\t\\t ====== Thank you for using the BMI Calculator! ======\")"
   ]
  },
  {
   "cell_type": "code",
   "execution_count": null,
   "id": "c3b108e2-56aa-4f5f-a819-99e0d97d98cc",
   "metadata": {},
   "outputs": [],
   "source": []
  }
 ],
 "metadata": {
  "kernelspec": {
   "display_name": "Python 3 (ipykernel)",
   "language": "python",
   "name": "python3"
  },
  "language_info": {
   "codemirror_mode": {
    "name": "ipython",
    "version": 3
   },
   "file_extension": ".py",
   "mimetype": "text/x-python",
   "name": "python",
   "nbconvert_exporter": "python",
   "pygments_lexer": "ipython3",
   "version": "3.13.5"
  }
 },
 "nbformat": 4,
 "nbformat_minor": 5
}
